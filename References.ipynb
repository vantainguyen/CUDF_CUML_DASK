{
 "cells": [
  {
   "cell_type": "markdown",
   "metadata": {},
   "source": [
    "<p> <center> <a href=\"../Start_Here.ipynb\">Home Page</a> </center> </p>"
   ]
  },
  {
   "cell_type": "markdown",
   "metadata": {},
   "source": [
    "# References\n",
    "\n",
    "This notebook contains references used in the material."
   ]
  },
  {
   "cell_type": "markdown",
   "metadata": {},
   "source": [
    "- [**Introduction to Distributed deep learning**](jupyter_notebook/1.Introduction-to-Distributed-Deep-Learning.ipynb)\n",
    "   - [AI and Compute](https://openai.com/blog/ai-and-compute/)\n",
    "   - [Multiple GPUs Using Model Parallelism](https://mxnet.apache.org/versions/1.8.0/api/faq/model_parallel_lstm)\n",
    "   - [Model Parallelism](https://docs.aws.amazon.com/sagemaker/latest/dg/model-parallel-intro.html#:~:text=Model%20parallelism%20is%20the%20process,devices%20to%20maximize%20GPU%20utilization)\n",
    "   - [Data Parallelism](https://leimao.github.io/blog/Data-Parallelism-vs-Model-Paralelism/)\n",
    "   - [Tensorflow-parallel computing](https://www.programmersought.com/article/26705294588/)\n",
    "   - [Data parallel and model parallel distributed training with Tensorflow](http://kuozhangub.blogspot.com/2017/08/data-parallel-and-model-parallel.html)\n",
    "   - [Exascale Deep Learning for Climate Analytics](https://arxiv.org/pdf/1810.01993.pdf)\n",
    "\n",
    "\n",
    "- [**System Topology**](jupyter_notebook/2.1.System-Topology.ipynb)\n",
    "   - [DLProf](https://docs.nvidia.com/deeplearning/frameworks/dlprof-user-guide/)\n",
    "   - [CUDA Samples](https://github.com/NVIDIA/cuda-samples)\n",
    "\n",
    "\n",
    "- [**Hands-on with Distributed training**](jupyter_notebook/3.Hands-on-Multi-GPU.ipynb)\n",
    "   - [Distributed training with TensorFlow](https://www.tensorflow.org/guide/distributed_training#overview)\n",
    "   - [Horovod](https://github.com/horovod/horovod)\n",
    "\n",
    "\n",
    "- [**Challenges with convergence**](jupyter_notebook/4.Convergence.ipynb)\n",
    "   - [Measuring the Effects of Data Parallelism\n",
    "on Neural Network Training](https://arxiv.org/pdf/1811.03600.pdf)\n",
    "   - [An Empirical Model of Large-Batch Training](https://arxiv.org/pdf/1812.06162)\n",
    "   - [How AI Training Scales](https://openai.com/blog/science-of-ai/)\n",
    "   - [ImageNet Training in Minutes](https://arxiv.org/pdf/1709.05011.pdf)\n",
    "   - [On Large-Batch Training for Deep Learning:\n",
    "Generalization Gap and Sharp Minima](https://arxiv.org/pdf/1609.04836.pdf)\n",
    "   - [Train longer, generalize better: closing the\n",
    "generalization gap in large batch training of neural\n",
    "networks](https://arxiv.org/pdf/1705.08741.pdf)\n",
    "   - [Accurate, Large Minibatch SGD:\n",
    "Training ImageNet in 1 Hour](https://arxiv.org/pdf/1706.02677.pdf)\n",
    "   - [Large Batch Optimization for Deep Learning:\n",
    "Training BERT in 76 Minutes](https://arxiv.org/pdf/1904.00962.pdf)"
   ]
  },
  {
   "cell_type": "markdown",
   "metadata": {},
   "source": [
    "***\n",
    "\n",
    "## Licensing\n",
    "\n",
    "This material is released by OpenACC-Standard.org, in collaboration with NVIDIA Corporation, under the Creative Commons Attribution 4.0 International (CC BY 4.0)."
   ]
  }
 ],
 "metadata": {
  "kernelspec": {
   "display_name": "Python 3",
   "language": "python",
   "name": "python3"
  },
  "language_info": {
   "codemirror_mode": {
    "name": "ipython",
    "version": 3
   },
   "file_extension": ".py",
   "mimetype": "text/x-python",
   "name": "python",
   "nbconvert_exporter": "python",
   "pygments_lexer": "ipython3",
   "version": "3.8.10"
  }
 },
 "nbformat": 4,
 "nbformat_minor": 4
}
