{
 "cells": [
  {
   "cell_type": "markdown",
   "metadata": {},
   "source": [
    "\n",
    "<p> <center> <a href=\"../Start_Here.ipynb\">Home Page</a> </center> </p>\n",
    "\n",
    " \n",
    "<div>\n",
    "    <span style=\"float: left; width: 51%; text-align: right;\">\n",
    "        <a >1</a>\n",
    "        <a href=\"2.1.System-Topology.ipynb\">2</a>\n",
    "        <a href=\"3.Hands-on-Multi-GPU.ipynb\">3</a>\n",
    "        <a href=\"4.Convergence.ipynb\">4</a>\n",
    "    </span>\n",
    "    <span style=\"float: left; width: 49%; text-align: right;\"><a href=\"2.1.System-Topology.ipynb\">Next Notebook</a></span>\n",
    "</div>\n",
    "\n"
   ]
  },
  {
   "cell_type": "markdown",
   "metadata": {},
   "source": [
    "# Introduction to Distributed Deep Learning\n",
    "\n",
    "**Contents of this notebook:**\n",
    "\n",
    "- [The need for Distributed Deep Learning](#The-need-for-Distributed-Deep-Learning)\n",
    "- [Differnet types of Distributed Deep learning and it's applications](#Differnet-types-of-Distributed-Deep-learning-and-it's-applications)\n",
    "    - [Training and Inference](#Training-and-Inference)\n",
    "    - [Data and Model Parallelism](#Data-and-Model-Parallelism)\n",
    "    - [Framework and NVIDIA NGC Support - Optional](#Framework-and-NVIDIA-NGC-Support---Optional)\n",
    "- [Demo - Scalability across multiple GPUs](#Demo---Scalability-across-multiple-GPUs) \n",
    "\n",
    "\n",
    "**The objectives of this Notebook is to make understand:**\n",
    "\n",
    "- The need for distributed Deep Learning.\n",
    "- The ecosystem of distributed Deep Learning."
   ]
  },
  {
   "cell_type": "markdown",
   "metadata": {
    "tags": []
   },
   "source": [
    "# The need for Distributed Deep Learning\n",
    "\n",
    "Artificial Intelligence has witnessed tremendous progress in the past decade, making its impact in almost every potential field. Still, the concepts for the backbone of Neural networks such as Perceptron, backpropagation were published in 1958 and 1974 respectively. They were not widespread because of the unavailability of computing power and lack of data transfer and storage systems. The introduction of the Internet and the recent improvements in compute have both been a key component of AI progress in recent times, with [NVIDIA](https://www.nvidia.com/) being the leader in AI progress in the modern world.\n",
    "\n",
    "With the recent advancements in computing power, modern Deep neural networks are capable of processing a wide variety of data. They can do a wide range of tasks, but these Deep learning workloads have also significantly grown in size. This makes deep learning applications time-intensive for larger workloads.\n",
    "\n",
    "The below chart plots the amount of computing required by various modern networks starting from AlexNet to AlphaGo Zero.\n",
    "\n",
    "<center><img src=\"images/ai-and-compute-modern-log.png\"/></center>\n",
    "\n",
    "\n",
    "This chart points out that AI training runs has been increasing exponentially with a 3.4-month doubling time, by comparison to [Moore's Law](https://en.wikipedia.org/wiki/Moore%27s_law) which has a doubling period of 2-years, this difference might make it practically hard to train larger networks, so to enable researchers and data scientists to train bigger networks with higher compute power, [NVIDIA](https://www.nvidia.com/) constantly innovates in both software and hardware forefronts bringing out new technology such as [AMP](https://developer.nvidia.com/automatic-mixed-precision) and [NVIDIA Tensor Cores](https://www.nvidia.com/en-in/data-center/tensor-cores/).\n",
    "\n",
    "- [AMP](https://developer.nvidia.com/automatic-mixed-precision): Deep Neural Network training has traditionally relied on IEEE single-precision format. However, you can train with mixed precision with half-precision while maintaining the network accuracy achieved with single precision. This technique of using both `single` and `half-precision` representations is referred to as the mixed-precision technique. The benefits are : \n",
    "    - Speeds up math-intensive operations, such as linear and convolution layers, using [NVIDIA Tensor Cores](https://www.nvidia.com/en-in/data-center/tensor-cores/).\n",
    "    - Speeds up memory-limited operations by accessing half the bytes compared to single-precision.\n",
    "    - Reduces memory requirements for training models, enabling larger models or larger mini-batches.\n",
    "    \n",
    "- [NVIDIA Tensor Cores](https://www.nvidia.com/en-in/data-center/tensor-cores/): Tensor Cores enable mixed-precision computing, dynamically adapting calculations to accelerate throughput while preserving accuracy. The latest generation expands these speedups to a full range of workloads. From 10X speedups in AI training with Tensor Float 32 (TF32), a revolutionary new precision, to 2.5X boosts for high-performance computing with floating-point 64 (FP64)"
   ]
  },
  {
   "cell_type": "markdown",
   "metadata": {},
   "source": [
    "GPUs are the choice of AI researchers and data scientists for their ability to perform massive parallelism and high throughput. \n",
    "\n",
    "Before going further, let us define what we mean by **throughput**. Throughput refers to the number of data units processed per unit of time. The data unit varies according to our application. For example, if we have a Computer Vision application, we calculate the images/sec processed through the deep learning network. By having a higher throughput, we process more data units, which leads us to faster convergence of our system.\n",
    "\n",
    "\n",
    "Let us now do an experiment and calculate the throughput of training a Natural language processing with different batch sizes in a single GPU."
   ]
  },
  {
   "cell_type": "code",
   "execution_count": 1,
   "metadata": {},
   "outputs": [],
   "source": [
    "SINGULARITY_RUN=\"singularity run --nv --env TF_CPP_MIN_LOG_LEVEL=3 ~/DDL.simg \""
   ]
  },
  {
   "cell_type": "code",
   "execution_count": 2,
   "metadata": {},
   "outputs": [
    {
     "name": "stdout",
     "output_type": "stream",
     "text": [
      "srun: job 3579 queued and waiting for resources\n",
      "srun: job 3579 has been allocated resources\n",
      "Batch size: 32\n",
      "Epoch 1/3\n",
      "1402/1402 [==============================] - 50s 33ms/step - loss: 2.2799 - dense_2_loss: 2.2799..1721 - dense_2_loss: 3.1 loss: 2.9933 - dense_2_loss: 2.- dense_2_loss: 2.8known - 12s 32ms/step - loss: 2.7492 - dense_2_loss: 2.749: 2.7ms/step - loss: 2.6575 - dense_2_loss: 2.: 2.6199 - dense_2_loss: 2.61   356/Unknown - 16s 33ms/step - loss: 2.5680 - dense_2_loss: 2.568se_2_loss: 2.54 - 17s 33ms/step - loss: 2.5249 - dense_2_loss: 2.5240ep - loss: 2.4845 - dense_2_loss: 2.808 - dense_2_loss: 2.47/Unknown - 21s 33ms/step - loss: 2.4735 - dense_2_loss: 2.473loss: 2.4s 33ms/step - loss: 2.4461 - dense_2_loss: 2.loss: 2.4333 - dense_2_loss: 2. dense_2_loss: 2.41nown - 27s 33ms/step - loss: 2.3931 - dense_2_loss: 2.393 2.38s/step - loss: 2.3718 - dense_2_loss: 2. 2.3742 - dense_2_loss: 2.3  797/Unknown - 30s 33ms/step - loss: 2.3663 - dense_2_loss: 2.366e_2_loss: 2.3- 32s 33ms/step - loss: 2.3523 - dense_2_loss: 2.35p - loss: 2.3432 - dense_2_loss: 2.52 - dense_2_loss: 2.33/Unknown - 36s 33ms/step - loss: 2.3281 - dense_2_loss: 2.328oss: 2.32 33ms/step - loss: 2.3114 - dense_2_loss: 2.oss: 2.3003 - dense_2_loss: 2.dense_2_loss: 2.2own - 41s 33ms/step - loss: 2.3001 - dense_2_loss: 2.3002.2/step - loss: 2.2897 - dense_2_loss: 2.2.2842 - dense_2_loss: 2.281239/Unknown - 45s 33ms/step - loss: 2.2824 - dense_2_loss: 2.282_2_loss: 2.28 46s 33ms/step - loss: 2.2861 - dense_2_loss: 2.28 - loss: 2.2798 - dense_2_loss: 2.4 - dense_2_loss: 2.2Unknown - 50s 33ms/step - loss: 2.2797 - dense_2_loss: 2.279\n",
      "Epoch time : 50.07631707191467\n",
      "Units/sec: 896.23\n",
      "Epoch 2/3\n",
      "1402/1402 [==============================] - 46s 33ms/step - loss: 1.8816 - dense_2_loss: 1.8816.] - ETA: 45s - loss: 1.8319 - dense_2_loss: 1.83- dense_2_loss: 1...........] - ETA: 43s - loss: 1.9910 - dense_2_loss: 1.99013 - dense_2_loss: 2...............] - ETA: 41s - loss: 1.9793 - dense_2_loss: 1.97 1.9604 - dense_2_loss: 1...................] - ETA: 39s - loss: 1.9083 - dense_2_loss: 1.90oss: 1.9381 - dense_2_loss: 1.......................] - ETA: 38s - loss: 1.9088 - dense_2_loss: 1.90 - loss: 1.8933 - dense_2_loss: 1.899==>........................] - ETA: 36s - loss: 1.9052 - dense_2_loss: 1.90 35s - loss: 1.9160 - dense_2_loss: 1.9 1.898[======>.......................] - ETA: 34s - loss: 1.8932 - dense_2_loss: 1.89ETA: 33s - loss: 1.8856 - dense_2_loss: 1.8oss: 1.884402 [=======>......................] - ETA: 32s - loss: 1.8831 - dense_2_loss: 1.88] - ETA: 31s - loss: 1.8768 - dense_2_loss: 1.8_2_loss: 1.88770/1402 [=========>....................] - ETA: 30s - loss: 1.8880 - dense_2_loss: 1.88....] - ETA: 29s - loss: 1.8976 - dense_2_loss: 1.8ense_2_loss: 1.9........] - ETA: 28s - loss: 1.8969 - dense_2_loss: 1.8 - dense_2_loss: 1.8............] - ETA: 26s - loss: 1.9003 - dense_2_loss: 1.98951 - dense_2_loss: 1.8................] - ETA: 24s - loss: 1.8887 - dense_2_loss: 1.8: 1.8820 - dense_2_loss: 1.8====>...............] - ETA: 22s - loss: 1.8779 - dense_2_loss: 1.8loss: 1.8758 - dense_2_loss: 1.8=========>..............] - ETA: 20s - loss: 1.8900 - dense_2_loss: 1.8s - loss: 1.8845 - dense_2_loss: 1.88884==============>.............] - ETA: 18s - loss: 1.8857 - dense_2_loss: 1.8: 18s - loss: 1.8780 - dense_2_loss: 1.87: 1.877 [=================>............] - ETA: 16s - loss: 1.8780 - dense_2_loss: 1.8 ETA: 16s - loss: 1.8797 - dense_2_loss: 1.87loss: 1.8811402 [===================>..........] - ETA: 15s - loss: 1.8806 - dense_2_loss: 1.8.] - ETA: 14s - loss: 1.8790 - dense_2_loss: 1.87e_2_loss: 1.875996/1402 [====================>.........] - ETA: 13s - loss: 1.8721 - dense_2_loss: 1.8.....] - ETA: 12s - loss: 1.8675 - dense_2_loss: 1.86dense_2_loss: 1>........] - ETA: 10s - loss: 1.8650 - dense_2_loss: 1.869 - dense_2_loss: 1.86708/1402 [======================>.......] - ETA: 9s - loss: 1.8721 - dense_2_loss: 1.8: 1.8739 - dense_2_loss:  loss: 1.8710 - dense_2_loss: 1. 6s - loss: 1.8661 - dense_2_loss:  ETA: 5s - loss: 1.8703 - dense_2_loss: 1...] - ETA: 4s - loss: 1.8740 - dense_2_loss: ===>...] - ETA: 3s - loss: 1.8792 - dense_2_loss: 1.=========>..] - ETA: 2s - loss: 1.8755 - dense_2_loss: 1.87===============>.] - ETA: 1s - loss: 1.8795 - dense_2_loss: 1.8s: 1.88\n",
      "Epoch time : 46.112640380859375\n",
      "Units/sec: 973.27\n",
      "Epoch 3/3\n",
      "1402/1402 [==============================] - 46s 33ms/step - loss: 1.6985 - dense_2_loss: 1.6985.] - ETA: 44s - loss: 1.6383 - dense_2_loss: 1.63- dense_2_loss: 1...........] - ETA: 45s - loss: 1.7720 - dense_2_loss: 1.77906 - dense_2_loss: 1...............] - ETA: 42s - loss: 1.7882 - dense_2_loss: 1.78 1.7713 - dense_2_loss: 1...................] - ETA: 40s - loss: 1.7123 - dense_2_loss: 1.71oss: 1.7522 - dense_2_loss: 1.......................] - ETA: 38s - loss: 1.7189 - dense_2_loss: 1.71 - loss: 1.7102 - dense_2_loss: 1.708==>........................] - ETA: 36s - loss: 1.7176 - dense_2_loss: 1.71 35s - loss: 1.7298 - dense_2_loss: 1.7 1.710[======>.......................] - ETA: 34s - loss: 1.7064 - dense_2_loss: 1.70ETA: 33s - loss: 1.6961 - dense_2_loss: 1.6oss: 1.695402 [=======>......................] - ETA: 32s - loss: 1.7005 - dense_2_loss: 1.70] - ETA: 31s - loss: 1.6908 - dense_2_loss: 1.6_2_loss: 1.69871/1402 [=========>....................] - ETA: 30s - loss: 1.6997 - dense_2_loss: 1.69....] - ETA: 30s - loss: 1.7104 - dense_2_loss: 1.7ense_2_loss: 1.7........] - ETA: 28s - loss: 1.7132 - dense_2_loss: 1.7 - dense_2_loss: 1.7............] - ETA: 26s - loss: 1.7106 - dense_2_loss: 1.77061 - dense_2_loss: 1.7................] - ETA: 24s - loss: 1.6991 - dense_2_loss: 1.6: 1.6963 - dense_2_loss: 1.6====>...............] - ETA: 22s - loss: 1.6905 - dense_2_loss: 1.6loss: 1.6891 - dense_2_loss: 1.6=========>..............] - ETA: 20s - loss: 1.7025 - dense_2_loss: 1.7s - loss: 1.6966 - dense_2_loss: 1.69697==============>.............] - ETA: 18s - loss: 1.6977 - dense_2_loss: 1.6: 18s - loss: 1.6917 - dense_2_loss: 1.69: 1.690 [=================>............] - ETA: 17s - loss: 1.6931 - dense_2_loss: 1.6 ETA: 16s - loss: 1.6922 - dense_2_loss: 1.69loss: 1.6951402 [===================>..........] - ETA: 15s - loss: 1.6935 - dense_2_loss: 1.6.] - ETA: 14s - loss: 1.6920 - dense_2_loss: 1.69e_2_loss: 1.689997/1402 [====================>.........] - ETA: 13s - loss: 1.6861 - dense_2_loss: 1.6.....] - ETA: 12s - loss: 1.6818 - dense_2_loss: 1.68dense_2_loss: 1=>.......] - ETA: 10s - loss: 1.6808 - dense_2_loss: 1.689 - dense_2_loss: 1.68309/1402 [======================>.......] - ETA: 9s - loss: 1.6864 - dense_2_loss: 1.6: 1.6881 - dense_2_loss:  loss: 1.6861 - dense_2_loss: 1. 6s - loss: 1.6809 - dense_2_loss:  ETA: 5s - loss: 1.6870 - dense_2_loss: 1...] - ETA: 4s - loss: 1.6909 - dense_2_loss: ===>...] - ETA: 3s - loss: 1.6953 - dense_2_loss: 1.=========>..] - ETA: 2s - loss: 1.6914 - dense_2_loss: 1.69===============>.] - ETA: 1s - loss: 1.6961 - dense_2_loss: 1.6s: 1.69\n",
      "Epoch time : 46.0939302444458\n",
      "Units/sec: 973.66\n"
     ]
    }
   ],
   "source": [
    "# GPT - Wikitext -2 : 32 ,64 , 128 , 256 ,512 , 1024\n",
    "COMMAND = SINGULARITY_RUN + ' python3 ../source_code/N1/GPT.py --batch-size=32 2> /dev/null' \n",
    "!echo  $COMMAND > command && srun --partition=gpu -n1 --gres=gpu:1 /bin/bash ./command"
   ]
  },
  {
   "cell_type": "markdown",
   "metadata": {},
   "source": [
    "Let us now tabulate the results that we obtained in the above experiment. Ignore the first iteration as it includes graph building time and one-time operations in them.\n",
    "\n",
    "Output of running the command on DGX-1 (V100): \n",
    "\n",
    "|Batch Size| Throughput |\n",
    "|-|-|\n",
    "|32|1050|\n",
    "|64|1498|\n",
    "|128|1906|\n",
    "|256|2192|\n",
    "|512|2364|\n",
    "|1024|2452|\n",
    "|1280|2456|\n",
    "\n",
    "Output of running the command on AMPERE (A100): \n",
    "\n",
    "|Batch Size| Throughput |\n",
    "|-|-|\n",
    "|32|3995|\n",
    "|64|5303|\n",
    "|128|6383|\n",
    "|256|7100|\n",
    "|512|7794|\n",
    "|1024|8108|\n",
    "|1280|8161|\n",
    "\n",
    "We can noticed that the throughput increases as we initially increase the batch size and reaches a ceiling at which we have completely utilised the compute or memory throughput available to us."
   ]
  },
  {
   "cell_type": "markdown",
   "metadata": {},
   "source": [
    "A straightforward method to increase training throughput is to use multiple GPU devices to increase parallelism further; the below chart demonstrates the performance improvements with increase in throughput of images processed by the two different deep neural networks. \n",
    "\n",
    "<center><img src=\"images/horovod_exascale_2.png\"/></center>\n",
    "\n",
    "Now that we understand the need for more computing power for modern networks and how multiple GPUs can bridge this gap with parallelism, let us now understand the types of Distributed Deep learning and their respective applications."
   ]
  },
  {
   "cell_type": "markdown",
   "metadata": {},
   "source": [
    "# Differnet types of Distributed Deep learning and it's applications"
   ]
  },
  {
   "cell_type": "markdown",
   "metadata": {
    "tags": []
   },
   "source": [
    "### Training and Inference\n",
    "\n",
    "- **Training**: This is the widely used case for distributed deep learning called distributed Training. When the computing power needed for model convergence gets higher, multiples GPUs are then used to increase parallelism and thus reduce the training time. \n",
    "\n",
    "- **Inference**: Deep learning inference is the process of using a trained DNN model to make predictions against previously unseen data. Distributed inferencing is used in applications that require low latency and high throughput. One such example is running Inference on multiple video streams on an Intelligent Video Analytics application built with [NVIDIA DeepStream SDK](https://developer.nvidia.com/deepstream-sdk). \n",
    "\n",
    "\n",
    "***\n",
    "\n",
    "### Data and Model Parallelism\n",
    "\n",
    "- **Model Parallelism**: Model parallelism is the process of splitting a model up between multiple devices or nodes and creating an efficient pipeline to train the model across these devices to maximize GPU utilization. An example representation of model parallelism can be as follows.\n",
    "\n",
    "<center><img src=\"images/model_parallelism.jpg\"/></center>\n",
    "\n",
    "\n",
    "- **Data Parallelism**: In modern deep learning, when the dataset is too big to be fit into the memory, we could only do stochastic gradient descent for batches. The shortcoming of stochastic gradient descent is that the estimate of the gradients might not accurately represent the true gradients of using the full dataset. Therefore, it may take much longer to converge. A natural way to have a more accurate estimate of the gradients is to use larger batch sizes or even use the full dataset. To allow this, the gradients of small batches are calculated on each GPU. The final estimate of the gradients is the weighted average of the gradients calculated from all the small batches. \n",
    "\n",
    "    - **Synchronous data parallelism** : In synchronous data parallelism, all workers train over different slices of input data in sync and aggregate gradients at each step.\n",
    "    - **Asynchronous data parallelism** : In synchronous data parallelism, all workers are independently training over the input data and updating variables asynchronously. \n",
    "    \n",
    "Optional: Typically `sync` training is supported via all-reduce and `async` through parameter server architecture\n",
    "\n",
    "\n",
    "Example representation of Synchronous and Asynchronous data parallelism :\n",
    "\n",
    "<table><tr>\n",
    "<td> <img src=\"images/sync.png\" alt=\"Drawing\" /> </td>\n",
    "<td> <img src=\"images/async.png\" alt=\"Drawing\" /> </td>\n",
    "</tr></table>\n",
    "\n",
    "\n",
    "- **Hybrid Parallelism** : Hybrid parallelism is used when we would like to make use of both Data and Model parallelism. An example would be when we need to train a large model that cannot fit into one GPU but can fit into a node, we could use Model parallelism inside a node and using Data parallelism across nodes.\n",
    "\n",
    "***\n"
   ]
  },
  {
   "cell_type": "markdown",
   "metadata": {},
   "source": [
    "### Framework and NVIDIA NGC Support - Optional\n",
    "\n",
    "Let us look into some frameworks that support Distributed Deep learning. \n",
    "\n",
    "#### Frameworks :\n",
    "\n",
    "- **Tensorflow & Keras** : We can distribute deep learning training using minimal code changes using the `tf.distribute` API to distribute training across multiple GPUs, multiple machines or TPUs. We will look into some strategies that `tf.distribute` API offers in the upcoming notebooks \n",
    "- **PyTorch** : PyTorch enables users to distrubute their training using `torch.nn.DataParallel` and `torch.nn.parallel.DistributedDataParallel` for Data parallelism. \n",
    "- **MXNet** : MXNet uses `KV Store` server for distributed training. It has 4 modes that determine how the weights are updated and determine where the model is stored.\n",
    "- **Horovod** : Horovod is a distributed deep learning training framework for TensorFlow, Keras, PyTorch, and Apache MXNet. Horovod was originally developed by Uber to make distributed deep learning fast and easy to use. With Horovod, an existing training script can be scaled up to run on hundreds of GPUs in just a few lines of Python code.\n",
    "\n",
    "#### NVIDIA NGC Support \n",
    "\n",
    "The NVIDIA NGC Catalog is a curated set of GPU-optimized software for AI, HPC and Visualization. The content provided by NVIDIA and third-party ISVs simplify building, customizing, and integrating GPU-optimized software into workflows, accelerating the time to solutions for users. The NGC Catalog consists of containers, pre-trained models, Helm charts for Kubernetes deployments and industry-specific AI toolkits with software development kits (SDKs). NGC Catalog contains containers that have Multi-node support built-in and can be readily deployed. \n",
    "\n",
    "\n",
    "We will be primarily looking into using Distributed Deep learning training using Data parallelism in the upcoming notebooks. We will use both Horovod and Tensorflow for this, so the reader can choose whichever framework they would like to follow through. "
   ]
  },
  {
   "cell_type": "markdown",
   "metadata": {},
   "source": [
    "# Demo - Scalability across multiple GPUs"
   ]
  },
  {
   "cell_type": "markdown",
   "metadata": {
    "tags": []
   },
   "source": [
    "Now that we've have seen the basics around the Distributed deep learning system , let us now try running a demo and see how well it scales with multiple GPUs , this is done by calculating a term called as scaling efficiency. \n",
    "\n",
    "Scaling efficiency can be defined as follows :\n",
    "\n",
    "$$\n",
    "Scaling\\ efficiency = \\frac{ \\frac{Total\\ samples\\ processed\\ per\\ unit\\ time}{Number\\ of\\ gpus} }{ \\  \\ Samples\\ processed\\ per\\ unit\\ time\\ per\\ gpu }\n",
    "$$\n",
    "\n",
    "**Note : Scaling efficiency is usually less than 1 because of the additional communication that has to be performed to keep the system in sync.**\n",
    "\n",
    "Let us now try scaling a simple CNN clasifier with the FMNIST dataset using Synchronous training with Horovod and calcualte it's scaling efficiency run across 1,2,4 and 8 GPUs respectively. You can execute this approach based on your accessibility to either DGX `V100` or `A100`. \n",
    "\n"
   ]
  },
  {
   "cell_type": "markdown",
   "metadata": {},
   "source": [
    "### DGX-1 A100"
   ]
  },
  {
   "cell_type": "code",
   "execution_count": 3,
   "metadata": {},
   "outputs": [
    {
     "name": "stdout",
     "output_type": "stream",
     "text": [
      "srun: job 3611 queued and waiting for resources\n",
      "srun: job 3611 has been allocated resources\n",
      "[1,0]<stdout>:Downloading data from https://storage.googleapis.com/tensorflow/tf-keras-datasets/mnist.npz\n",
      "[1,0]<stdout>:11493376/11490434 [==============================] - 0s 0us/step]<stdout\n",
      "[1,0]<stdout>:Epoch 1/8\n",
      "[1,0]<stdout>:7/7 - 15s - loss: 1.5711 - accuracy: 0.5389\n",
      "[1,0]<stdout>:Epoch time : 15.407773494720459\n",
      "[1,0]<stdout>:Images/sec: 3894.14\n",
      "[1,0]<stdout>:Epoch 2/8\n",
      "[1,0]<stdout>:7/7 - 1s - loss: 0.6381 - accuracy: 0.7957\n",
      "[1,0]<stdout>:Epoch time : 0.5352449417114258\n",
      "[1,0]<stdout>:Images/sec: 112098.21\n",
      "[1,0]<stdout>:Epoch 3/8\n",
      "[1,0]<stdout>:7/7 - 1s - loss: 0.4345 - accuracy: 0.8677\n",
      "[1,0]<stdout>:Epoch time : 0.5374562740325928\n",
      "[1,0]<stdout>:Images/sec: 111636.99\n",
      "[1,0]<stdout>:Epoch 4/8\n",
      "[1,0]<stdout>:7/7 - 1s - loss: 0.3367 - accuracy: 0.8999\n",
      "[1,0]<stdout>:Epoch time : 0.5405910015106201\n",
      "[1,0]<stdout>:Images/sec: 110989.64\n",
      "[1,0]<stdout>:Epoch 5/8\n",
      "[1,0]<stdout>:7/7 - 1s - loss: 0.2748 - accuracy: 0.9184\n",
      "[1,0]<stdout>:Epoch time : 0.5315771102905273\n",
      "[1,0]<stdout>:Images/sec: 112871.68\n",
      "[1,0]<stdout>:Epoch 6/8\n",
      "[1,0]<stdout>:7/7 - 1s - loss: 0.2297 - accuracy: 0.9314\n",
      "[1,0]<stdout>:Epoch time : 0.530311107635498\n",
      "[1,0]<stdout>:Images/sec: 113141.13\n",
      "[1,0]<stdout>:Epoch 7/8\n",
      "[1,0]<stdout>:7/7 - 1s - loss: 0.1963 - accuracy: 0.9417\n",
      "[1,0]<stdout>:Epoch time : 0.5296807289123535\n",
      "[1,0]<stdout>:Images/sec: 113275.78\n",
      "[1,0]<stdout>:Epoch 8/8\n",
      "[1,0]<stdout>:7/7 - 1s - loss: 0.1709 - accuracy: 0.9494\n",
      "[1,0]<stdout>:Epoch time : 0.5306069850921631\n",
      "[1,0]<stdout>:Images/sec: 113078.04\n",
      "[1,0]<stderr>:/usr/local/lib/python3.8/dist-packages/horovod/_keras/callbacks.py:58: UserWarning: Some callbacks may not have access to the averaged metrics, see https://github.com/horovod/horovod/issues/2440\n",
      "[1,0]<stderr>:  warnings.warn(\n"
     ]
    }
   ],
   "source": [
    "# 1 GPU \n",
    "COMMAND = SINGULARITY_RUN + ' horovodrun -np 1 --mpi-args=\"--oversubscribe\" python3 ../source_code/N1/cnn_fmnist.py --batch-size=8192 2> /dev/null' \n",
    "!echo  $COMMAND > command && srun -n1 --partition=gpu --gres=gpu:1 /bin/bash ./command"
   ]
  },
  {
   "cell_type": "code",
   "execution_count": 4,
   "metadata": {},
   "outputs": [
    {
     "name": "stdout",
     "output_type": "stream",
     "text": [
      "srun: job 3617 queued and waiting for resources\n",
      "srun: job 3617 has been allocated resources\n",
      "[1,1]<stdout>:Downloading data from https://storage.googleapis.com/tensorflow/tf-keras-datasets/mnist.npz\n",
      "11493376/11490434 [==============================] - 0s 0us/step]<stdout\n",
      "[1,0]<stdout>:Epoch 1/8\n",
      "[1,0]<stdout>:3/3 - 22s - loss: 2.2004 - accuracy: 0.2774\n",
      "[1,0]<stdout>:Epoch time : 21.74643063545227\n",
      "[1,0]<stdout>:Images/sec: 2759.07\n",
      "[1,0]<stdout>:Epoch 2/8\n",
      "[1,0]<stdout>:3/3 - 1s - loss: 1.6737 - accuracy: 0.5839\n",
      "[1,0]<stdout>:Epoch time : 1.0899956226348877\n",
      "[1,0]<stdout>:Images/sec: 55046.09\n",
      "[1,0]<stdout>:Epoch 3/8\n",
      "[1,0]<stdout>:3/3 - 0s - loss: 1.0815 - accuracy: 0.6881\n",
      "[1,0]<stdout>:Epoch time : 0.3508951663970947\n",
      "[1,0]<stdout>:Images/sec: 170991.24\n",
      "[1,0]<stdout>:Epoch 4/8\n",
      "[1,0]<stdout>:3/3 - 0s - loss: 0.7905 - accuracy: 0.7485\n",
      "[1,0]<stdout>:Epoch time : 0.35965800285339355\n",
      "[1,0]<stdout>:Images/sec: 166825.15\n",
      "[1,0]<stdout>:Epoch 5/8\n",
      "[1,0]<stdout>:3/3 - 0s - loss: 0.5942 - accuracy: 0.8146\n",
      "[1,0]<stdout>:Epoch time : 0.37714576721191406\n",
      "[1,0]<stdout>:Images/sec: 159089.68\n",
      "[1,0]<stdout>:Epoch 6/8\n",
      "[1,0]<stdout>:3/3 - 0s - loss: 0.5119 - accuracy: 0.8441\n",
      "[1,0]<stdout>:Epoch time : 0.3474283218383789\n",
      "[1,0]<stdout>:Images/sec: 172697.49\n",
      "[1,0]<stdout>:Epoch 7/8\n",
      "[1,0]<stdout>:3/3 - 0s - loss: 0.4512 - accuracy: 0.8599\n",
      "[1,0]<stdout>:Epoch time : 0.3073611259460449\n",
      "[1,0]<stdout>:Images/sec: 195210.11\n",
      "[1,0]<stdout>:Epoch 8/8\n",
      "[1,0]<stdout>:3/3 - 0s - loss: 0.3816 - accuracy: 0.8863\n",
      "[1,0]<stdout>:Epoch time : 0.3465712070465088\n",
      "[1,0]<stdout>:Images/sec: 173124.6\n",
      "[1,0]<stderr>:/usr/local/lib/python3.8/dist-packages/horovod/_keras/callbacks.py:58: UserWarning: Some callbacks may not have access to the averaged metrics, see https://github.com/horovod/horovod/issues/2440\n",
      "[1,0]<stderr>:  warnings.warn(\n",
      "[1,1]<stderr>:/usr/local/lib/python3.8/dist-packages/horovod/_keras/callbacks.py:58: UserWarning: Some callbacks may not have access to the averaged metrics, see https://github.com/horovod/horovod/issues/2440\n",
      "[1,1]<stderr>:  warnings.warn(\n"
     ]
    }
   ],
   "source": [
    "# 2 GPUs \n",
    "COMMAND = SINGULARITY_RUN + ' horovodrun -np 2 --mpi-args=\"--oversubscribe\" python3 ../source_code/N1/cnn_fmnist.py --batch-size=8192 2> /dev/null' \n",
    "!echo  $COMMAND > command && srun --ntasks-per-node=2 -n1 --partition=gpu --gres=gpu:2 /bin/bash ./command"
   ]
  },
  {
   "cell_type": "code",
   "execution_count": 6,
   "metadata": {},
   "outputs": [
    {
     "name": "stdout",
     "output_type": "stream",
     "text": [
      "srun: job 3638 queued and waiting for resources\n",
      "srun: job 3638 has been allocated resources\n",
      "[1,0]<stdout>:Epoch 1/8\n",
      "[1,0]<stdout>:1/1 - 27s - loss: 2.3059 - accuracy: 0.0927\n",
      "[1,0]<stdout>:Epoch time : 26.99561834335327\n",
      "[1,0]<stdout>:Images/sec: 2222.58\n",
      "[1,0]<stdout>:Epoch 2/8\n",
      "[1,0]<stdout>:1/1 - 2s - loss: 2.2376 - accuracy: 0.2363\n",
      "[1,0]<stdout>:Epoch time : 2.40970516204834\n",
      "[1,0]<stdout>:Images/sec: 24899.31\n",
      "[1,0]<stdout>:Epoch 3/8\n",
      "[1,0]<stdout>:1/1 - 1s - loss: 2.1101 - accuracy: 0.4230\n",
      "[1,0]<stdout>:Epoch time : 1.4035429954528809\n",
      "[1,0]<stdout>:Images/sec: 42748.96\n",
      "[1,0]<stdout>:Epoch 4/8\n",
      "[1,0]<stdout>:1/1 - 1s - loss: 1.9349 - accuracy: 0.4883\n",
      "[1,0]<stdout>:Epoch time : 1.2914390563964844\n",
      "[1,0]<stdout>:Images/sec: 46459.8\n",
      "[1,0]<stdout>:Epoch 5/8\n",
      "[1,0]<stdout>:1/1 - 1s - loss: 1.7329 - accuracy: 0.5594\n",
      "[1,0]<stdout>:Epoch time : 1.1939504146575928\n",
      "[1,0]<stdout>:Images/sec: 50253.34\n",
      "[1,0]<stdout>:Epoch 6/8\n",
      "[1,0]<stdout>:1/1 - 1s - loss: 1.5100 - accuracy: 0.6110\n",
      "[1,0]<stdout>:Epoch time : 1.212634563446045\n",
      "[1,0]<stdout>:Images/sec: 49479.04\n",
      "[1,0]<stdout>:Epoch 7/8\n",
      "[1,0]<stdout>:1/1 - 1s - loss: 1.2935 - accuracy: 0.6489\n",
      "[1,0]<stdout>:Epoch time : 1.180891990661621\n",
      "[1,0]<stdout>:Images/sec: 50809.05\n",
      "[1,0]<stdout>:Epoch 8/8\n",
      "[1,0]<stdout>:1/1 - 1s - loss: 1.0986 - accuracy: 0.6862\n",
      "[1,3]<stderr>:/usr/local/lib/python3.8/dist-packages/horovod/_keras/callbacks.py:58: UserWarning: Some callbacks may not have access to the averaged metrics, see https://github.com/horovod/horovod/issues/2440\n",
      "[1,3]<stderr>:  warnings.warn(\n",
      "[1,2]<stderr>:/usr/local/lib/python3.8/dist-packages/horovod/_keras/callbacks.py:58: UserWarning: Some callbacks may not have access to the averaged metrics, see https://github.com/horovod/horovod/issues/2440\n",
      "[1,2]<stderr>:  warnings.warn(\n",
      "[1,0]<stdout>:Epoch time : 1.2222890853881836\n",
      "[1,0]<stdout>:Images/sec: 49088.22\n",
      "[1,1]<stderr>:/usr/local/lib/python3.8/dist-packages/horovod/_keras/callbacks.py:58: UserWarning: Some callbacks may not have access to the averaged metrics, see https://github.com/horovod/horovod/issues/2440\n",
      "[1,1]<stderr>:  warnings.warn(\n",
      "[1,0]<stderr>:/usr/local/lib/python3.8/dist-packages/horovod/_keras/callbacks.py:58: UserWarning: Some callbacks may not have access to the averaged metrics, see https://github.com/horovod/horovod/issues/2440\n",
      "[1,0]<stderr>:  warnings.warn(\n"
     ]
    }
   ],
   "source": [
    "# 4 GPUs\n",
    "COMMAND = SINGULARITY_RUN + ' horovodrun -np 4 --mpi-args=\"--oversubscribe\" python3 ../source_code/N1/cnn_fmnist.py --batch-size=8192 2> /dev/null' \n",
    "!echo  $COMMAND > command && srun --ntasks-per-node=4 -n1 --partition=gpu --gres=gpu:4 /bin/bash ./command"
   ]
  },
  {
   "cell_type": "markdown",
   "metadata": {},
   "source": [
    "Let us now aggregate the data into the below table below and calculate the scaling efficiency. Also ignore the first couple of iterations as they have graph building time and one-time operations in them.\n",
    "\n",
    "\n",
    "The table below contains output of running the command on DGX-1 (A100) : \n",
    "\n",
    "|#GPUs |Samples/sec|Scaling efficiency|\n",
    "|-|-|-|\n",
    "|1| 109642| NA|\n",
    "|2| 168561| ~77% |\n",
    "|4| 262557| ~60%|\n",
    "\n",
    "\n",
    "\n",
    "Now that we've run a demo and calculated the scaling efficiency of the model, we noticed a similar situation as in V100. Let us now get in-depth to understand our hardware environment and how it has the potential to affect the performance of our model."
   ]
  },
  {
   "cell_type": "markdown",
   "metadata": {},
   "source": [
    "***\n",
    "\n",
    "## Licensing\n",
    "\n",
    "This material is released by OpenACC-Standard.org, in collaboration with NVIDIA Corporation, under the Creative Commons Attribution 4.0 International (CC BY 4.0)."
   ]
  },
  {
   "cell_type": "markdown",
   "metadata": {},
   "source": [
    "<div>\n",
    "    <span style=\"float: left; width: 51%; text-align: right;\">\n",
    "        <a >1</a>\n",
    "        <a href=\"2.1.System-Topology.ipynb\">2</a>\n",
    "        <a href=\"3.Hands-on-Multi-GPU.ipynb\">3</a>\n",
    "        <a href=\"4.Convergence.ipynb\">4</a>\n",
    "    </span>\n",
    "    <span style=\"float: left; width: 49%; text-align: right;\"><a href=\"2.1.System-Topology.ipynb\">Next Notebook</a></span>\n",
    "</div>\n",
    "\n",
    "<br>\n",
    "<p> <center> <a href=\"../Start_Here.ipynb\">Home Page</a> </center> </p>\n",
    "\n",
    "\n",
    " \n",
    "\n",
    "\n",
    "\n"
   ]
  }
 ],
 "metadata": {
  "kernelspec": {
   "display_name": "Python 3 (ipykernel)",
   "language": "python",
   "name": "python3"
  },
  "language_info": {
   "codemirror_mode": {
    "name": "ipython",
    "version": 3
   },
   "file_extension": ".py",
   "mimetype": "text/x-python",
   "name": "python",
   "nbconvert_exporter": "python",
   "pygments_lexer": "ipython3",
   "version": "3.8.10"
  },
  "toc-autonumbering": false,
  "toc-showcode": false,
  "toc-showmarkdowntxt": false
 },
 "nbformat": 4,
 "nbformat_minor": 4
}
