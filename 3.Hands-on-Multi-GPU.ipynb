{
 "cells": [
  {
   "cell_type": "markdown",
   "metadata": {},
   "source": [
    "\n",
    "<p> <center> <a href=\"../Start_Here.ipynb\">Home Page</a> </center> </p>\n",
    "\n",
    " \n",
    "<div>\n",
    "    <span style=\"float: left; width: 33%; text-align: left;\"><a href=\"2.1.System-Topology.ipynb\">Previous Notebook</a></span>\n",
    "    <span style=\"float: left; width: 33%; text-align: center;\">\n",
    "        <a href=\"1.Introduction-to-Distributed-Deep-Learning.ipynb\">1</a>\n",
    "        <a href=\"2.1.System-Topology.ipynb\">2</a>\n",
    "        <a >3</a>\n",
    "        <a href=\"4.Convergence.ipynb\">4</a>\n",
    "    </span>\n",
    "    <span style=\"float: left; width: 33%; text-align: right;\"><a href=\"4.Convergence.ipynb\">Next Notebook</a></span>\n",
    "</div>"
   ]
  },
  {
   "cell_type": "markdown",
   "metadata": {},
   "source": [
    "# Introduction to Distributed Deep Learning - Part 3\n",
    "\n",
    "**Contents of this notebook:**\n",
    "\n",
    "- [Hands-on with Distributed training](#Hands-on-with-Distributed-training)\n",
    "    - [Tensorflow - Keras](#Tensorflow---Keras)\n",
    "    - [Horovod](#Horovod)\n",
    "\n",
    "**The objectives of this Notebook is to:**\n",
    "\n",
    "- Implement distributed deep learning training using Tensorflow / Keras.\n",
    "- Learn concepts of Horovod and implement them."
   ]
  },
  {
   "cell_type": "markdown",
   "metadata": {
    "tags": []
   },
   "source": [
    "# Hands-on with Distributed training\n",
    "\n",
    "This notebook will focus on **training** Deep Neural networks using **multiple GPUs** and **Data-parallelism**. The following frameworks would be used for the demonstration. \n",
    "\n",
    "- [Tensorflow - Keras](#Tensorflow---Keras)\n",
    "- [Horovod](#Horovod)\n",
    "\n",
    "In both cases, we will use **Single Host Multiple Device** implementations, although notes on **Multi-host multiple devices** will be presented at relevant places.\n",
    "\n",
    "You can use either / both of the methods that we mention below. We recommend trying out both of them."
   ]
  },
  {
   "cell_type": "markdown",
   "metadata": {},
   "source": [
    "## Tensorflow - Keras\n",
    "\n",
    "\n",
    "Tensorflow uses `tf.distribute.Strategy` API to distribute training across multiple GPUs, multiple machines or TPUs. Using this API, you can distribute your existing models and training code with minimal code changes. `tf.distribute.Strategy` can be used with a high-level API like **Keras**, and can also be used to distribute custom training loops.\n",
    "\n",
    "Tensorflow Strategies can be briefly summarised into two axes : \n",
    "\n",
    "- **Synchronous vs asynchronous** training: \n",
    "    - In sync training, all workers train over different slices of input data in sync and aggregate gradients at each step. \n",
    "    - In async training, all workers are independently training over the input data and updating variables asynchronously. \n",
    "\n",
    "\n",
    "\n",
    "- **Hardware platform**: You may want to scale your training onto multiple GPUs on one machine, or multiple machines in a network (with 0 or more GPUs each), or on Cloud TPUs.\n",
    "\n",
    "In order to support these use cases, there are 6 strategies available. Here is a short description of the strategies :\n",
    "\n",
    "- **MirroredStrategy**\n",
    "    - `tf.distribute.MirroredStrategy` supports synchronous distributed training on multiple GPUs on one machine. It creates one replica per GPU device. Each variable in the model is mirrored across all the replicas. Together, these variables form a single conceptual variable called MirroredVariable. These variables are kept in sync with each other by applying identical updates.\n",
    "- **MultiWorkerMirroredStrategy**\n",
    "    - `tf.distribute.MultiWorkerMirroredStrategy` is very similar to MirroredStrategy. It implements synchronous distributed training across multiple workers, each with potentially multiple GPUs. Similar to `tf.distribute.MirroredStrategy`, it creates copies of all variables in the model on each device across all workers.\n",
    "    - **Note** : For multi-worker training, you need to set up the `TF_CONFIG` environment variable for each binary running in your cluster. The `TF_CONFIG` environment variable is a JSON string which specifies what tasks constitute a cluster, their addresses and each task's role in the cluster.\n",
    "- **TPUStrategy**\n",
    "    - `tf.distribute.TPUStrategy` lets you run your TensorFlow training on Tensor Processing Units (TPUs).\n",
    "- **CentralStorageStrategy**\n",
    "    - `tf.distribute.experimental.CentralStorageStrategy` does synchronous training as well. Variables are not mirrored, instead they are placed on the CPU and operations are replicated across all local GPUs. If there is only one GPU, all variables and operations will be placed on that GPU.\n",
    "- **OneDeviceStrategy**\n",
    "    - `tf.distribute.OneDeviceStrategy` is a strategy to place all variables and computation on a single specified device.\n",
    "- **ParameterServerStrategy**\n",
    "    - Parameter server training is a common data-parallel method to scale up model training on multiple machines. A parameter server training cluster consists of workers and parameter servers. Variables are created on parameter servers and they are read and updated by workers in each step.\n",
    "\n",
    "\n",
    "Tensorflow by default uses [NCCL](https://developer.nvidia.com/nccl) for communication between GPUs. Kindly refer to the [System Topology Notebook](2.1.System-Topology.ipynb#NCCL) to learn more about NCCL.\n",
    "\n",
    "Now that we've given an overview of Tensorflow and the available functionalities let us try out an example using **MirroredStrategy**. \n",
    "\n",
    "We will be building a small CNN and train it on the **FMNIST dataset**."
   ]
  },
  {
   "cell_type": "markdown",
   "metadata": {},
   "source": [
    "```python\n",
    "#Import Necessary libraries\n",
    "import tensorflow_datasets as tfds\n",
    "import tensorflow as tf\n",
    "from tensorflow import keras\n",
    "import time\n",
    "import os\n",
    "import sys\n",
    "\n",
    "\n",
    "# Set number of GPUs to use for training\n",
    "os.environ[\"CUDA_VISIBLE_DEVICES\"]=\"0,1,2,3,4,5,6,7\"\n",
    "\n",
    "#Print Tensorflow version\n",
    "print(tf.__version__)\n",
    "\n",
    "# Download the MNIST dataset and load it from [TensorFlow Datasets](https://www.tensorflow.org/datasets). This returns a dataset in `tf.data` format.\n",
    "\n",
    "# Setting `with_info` to `True` includes the metadata for the entire dataset, which is being saved here to `info`.\n",
    "# Among other things, this metadata object includes the number of train and test examples. \n",
    "datasets, info = tfds.load(name='mnist', with_info=True, as_supervised=True)\n",
    "\n",
    "mnist_train, mnist_test = datasets['train'], datasets['test']\n",
    "```"
   ]
  },
  {
   "cell_type": "markdown",
   "metadata": {},
   "source": [
    "Let us now define a distribution strategy."
   ]
  },
  {
   "cell_type": "markdown",
   "metadata": {
    "tags": []
   },
   "source": [
    "```python\n",
    "### Define distribution strategy\n",
    "# Create a `MirroredStrategy` object. This will handle distribution, \n",
    "# and provides a context manager (`tf.distribute.MirroredStrategy.scope`) to build your model inside.\n",
    "strategy = tf.distribute.MirroredStrategy()\n",
    "print('Number of devices: {}'.format(strategy.num_replicas_in_sync))\n",
    "```"
   ]
  },
  {
   "cell_type": "markdown",
   "metadata": {
    "tags": []
   },
   "source": [
    "```python\n",
    "# Setup input pipeline\n",
    "# When training a model with multiple GPUs, you can use the extra computing power effectively by increasing the batch size. In general, use the largest batch size that fits the GPU memory, and tune the learning rate accordingly.\n",
    "num_train_examples = info.splits['train'].num_examples\n",
    "num_test_examples = info.splits['test'].num_examples\n",
    "\n",
    "BUFFER_SIZE = 10000\n",
    "\n",
    "# Setting the batch size per GPU / replica\n",
    "BATCH_SIZE_PER_REPLICA = 512\n",
    "BATCH_SIZE = BATCH_SIZE_PER_REPLICA * strategy.num_replicas_in_sync\n",
    "\n",
    "\n",
    "# Feature scaling function\n",
    "def scale(image, label):\n",
    "  image = tf.cast(image, tf.float32)\n",
    "  image /= 255\n",
    "\n",
    "  return image, label\n",
    "\n",
    "\n",
    "# Apply the scale function to the training and test data, shuffle the training data, and batching it.\n",
    "train_dataset = mnist_train.map(scale).cache().shuffle(BUFFER_SIZE).batch(BATCH_SIZE)\n",
    "eval_dataset = mnist_test.map(scale).batch(BATCH_SIZE)\n",
    "```"
   ]
  },
  {
   "cell_type": "markdown",
   "metadata": {},
   "source": [
    "Let's create and compile the model, note that we need to create and compile the model under the context of `strategy.scope`.\n",
    "\n",
    "We can now define callbacks to calculate `Throughput` obtained.\n",
    "\n",
    "**Note : We use the same model used in Notebook-1 scaling efficiency experiment, that should help us calculate scaling efficiency from the available data**"
   ]
  },
  {
   "cell_type": "markdown",
   "metadata": {},
   "source": [
    "```python\n",
    "\n",
    "with strategy.scope():\n",
    "  model = tf.keras.Sequential([\n",
    "          tf.keras.layers.Conv2D(32, [3, 3], activation='relu',input_shape=(28, 28, 1)),\n",
    "          tf.keras.layers.Conv2D(64, [3, 3], activation='relu'),\n",
    "          tf.keras.layers.MaxPooling2D(pool_size=(2, 2)),\n",
    "          tf.keras.layers.Dropout(0.25),\n",
    "          tf.keras.layers.Flatten(),\n",
    "          tf.keras.layers.Dense(128, activation='relu'),\n",
    "          tf.keras.layers.Dropout(0.5),\n",
    "          tf.keras.layers.Dense(10, activation='softmax')])\n",
    "\n",
    "  model.compile(loss=tf.keras.losses.SparseCategoricalCrossentropy(from_logits=True),\n",
    "                optimizer=tf.keras.mixed_precision.LossScaleOptimizer(tf.keras.optimizers.Adam()),\n",
    "                metrics=['accuracy'])\n",
    "```"
   ]
  },
  {
   "cell_type": "markdown",
   "metadata": {},
   "source": [
    "```python\n",
    "\n",
    "# ## Define the callbacks\n",
    "# Callback for printing the LR at the end of each epoch.\n",
    "class Throughput(tf.keras.callbacks.Callback):\n",
    "    def __init__(self, total_images=0):\n",
    "        self.total_images = total_images\n",
    "    def on_epoch_begin(self, epoch, logs=None):\n",
    "        self.epoch_start_time = time.time()\n",
    "    def on_epoch_end(self, epoch, logs=None):\n",
    "        epoch_time = time.time() - self.epoch_start_time\n",
    "        print('Epoch time : {}'.format(epoch_time))\n",
    "        images_per_sec = round(self.total_images / epoch_time, 2)\n",
    "        print('Images/sec: {}'.format(images_per_sec))\n",
    "        \n",
    "# Now, train the model in the usual way, calling `fit` on the model and passing in the dataset created at the beginning of the tutorial. This step is the same whether you are distributing the training or not.\n",
    "model.fit(train_dataset, epochs=8, callbacks=Throughput(total_images=len(mnist_train)))\n",
    "\n",
    "```"
   ]
  },
  {
   "cell_type": "code",
   "execution_count": 2,
   "metadata": {},
   "outputs": [],
   "source": [
    "SINGULARITY_RUN=\"singularity run --nv --env TF_CPP_MIN_LOG_LEVEL=3  ~/DDL.simg \"\n"
   ]
  },
  {
   "cell_type": "code",
   "execution_count": 2,
   "metadata": {},
   "outputs": [
    {
     "name": "stdout",
     "output_type": "stream",
     "text": [
      "WARNING:absl:Dataset mnist is hosted on GCS. It will automatically be downloaded to your\n",
      "local data directory. If you'd instead prefer to read directly from our public\n",
      "GCS bucket (recommended if you're running on GCP), you can instead pass\n",
      "`try_gcs=True` to `tfds.load` or set `data_dir=gs://tfds-data/datasets`.\n",
      "\n",
      "2.5.0\n",
      "\u001b[1mDownloading and preparing dataset mnist/3.0.1 (download: 11.06 MiB, generated: 21.00 MiB, total: 32.06 MiB) to /home/uz6cms8/tensorflow_datasets/mnist/3.0.1...\u001b[0m\n",
      "Dl Completed...: 100%|██████████| 4/4 [00:00<00:00,  6.43 file/s]\n",
      "WARNING:tensorflow:Collective ops is not configured at program startup. Some performance features may not be enabled.\n",
      "WARNING:tensorflow:Collective ops is not configured at program startup. Some performance features may not be enabled.\n",
      "\n",
      "\u001b[1mDataset mnist downloaded and prepared to /home/uz6cms8/tensorflow_datasets/mnist/3.0.1. Subsequent calls will reuse this data.\u001b[0m\n",
      "Number of devices: 4\n",
      "Epoch 1/8\n",
      "8/8 [==============================] - 35s 698ms/step - loss: 1.5692 - accuracy: 0.5226\n",
      "Epoch time : 34.54443669319153\n",
      "Images/sec: 1736.89\n",
      "Epoch 2/8\n",
      "8/8 [==============================] - 0s 56ms/step - loss: 0.6142 - accuracy: 0.8047\n",
      "Epoch time : 0.4413290023803711\n",
      "Images/sec: 135953.0\n",
      "Epoch 3/8\n",
      "8/8 [==============================] - 0s 27ms/step - loss: 0.4252 - accuracy: 0.8712\n",
      "Epoch time : 0.23953604698181152\n",
      "Images/sec: 250484.22\n",
      "Epoch 4/8\n",
      "8/8 [==============================] - 0s 27ms/step - loss: 0.3371 - accuracy: 0.8982\n",
      "Epoch time : 0.24188709259033203\n",
      "Images/sec: 248049.61\n",
      "Epoch 5/8\n",
      "8/8 [==============================] - 0s 25ms/step - loss: 0.2788 - accuracy: 0.9160\n",
      "Epoch time : 0.23437929153442383\n",
      "Images/sec: 255995.31\n",
      "Epoch 6/8\n",
      "8/8 [==============================] - 0s 27ms/step - loss: 0.2335 - accuracy: 0.9307\n",
      "Epoch time : 0.23688316345214844\n",
      "Images/sec: 253289.42\n",
      "Epoch 7/8\n",
      "8/8 [==============================] - 0s 26ms/step - loss: 0.1998 - accuracy: 0.9414\n",
      "Epoch time : 0.2355635166168213\n",
      "Images/sec: 254708.37\n",
      "Epoch 8/8\n",
      "8/8 [==============================] - 0s 24ms/step - loss: 0.1695 - accuracy: 0.9496\n",
      "/usr/local/lib/python3.8/dist-packages/tensorflow/python/keras/backend.py:4929: UserWarning: \"`sparse_categorical_crossentropy` received `from_logits=True`, but the `output` argument was produced by a sigmoid or softmax activation and thus does not represent logits. Was this intended?\"\n",
      "  warnings.warn(\n",
      "Epoch time : 0.22793245315551758\n",
      "Images/sec: 263235.88\n"
     ]
    }
   ],
   "source": [
    "COMMAND = SINGULARITY_RUN + ' python ../source_code/N3/tensorflow_ddl.py 2> /dev/null'\n",
    "!echo $COMMAND > command && srun --partition=gpu -n1 --gres=gpu:4 /bin/bash ./command\n"
   ]
  },
  {
   "cell_type": "markdown",
   "metadata": {
    "tags": []
   },
   "source": [
    "Kindly restart the kernel or run the following cell to restart the kernel to free up GPU memory before procedding to the next section."
   ]
  },
  {
   "cell_type": "code",
   "execution_count": 3,
   "metadata": {},
   "outputs": [
    {
     "data": {
      "text/plain": [
       "{'status': 'ok', 'restart': True}"
      ]
     },
     "execution_count": 3,
     "metadata": {},
     "output_type": "execute_result"
    }
   ],
   "source": [
    "import IPython\n",
    "app = IPython.Application.instance()\n",
    "app.kernel.do_shutdown(True) "
   ]
  },
  {
   "cell_type": "markdown",
   "metadata": {},
   "source": [
    "## Horovod\n",
    "\n",
    "Horovod is a distributed deep learning training framework. It is available for TensorFlow, Keras, PyTorch, and Apache MXNet.\n",
    "\n",
    "Horovod is an open-source tool initially developed by Uber to support their need for faster deep learning model training across many engineering teams. It is part of a growing ecosystem of approaches to distributed training, including for example, Distributed TensorFlow. Uber decided to develop a solution that utilised MPI for distributed process communication, and the NVIDIA Collective Communications Library (NCCL) for its highly optimised implementation of reductions across distributed processes and nodes. The resulting Horovod package delivers on its promise to scale deep learning model training across multiple GPUs and multiple nodes, with only minor code modification and intuitive debugging.\n",
    "\n",
    "\n",
    "#### Horovod's MPI Roots\n",
    "\n",
    "Horovod's connection to MPI runs deep, and for programmers familiar with MPI programming, much of what you program to distribute model training with Horovod will feel very familiar. For those unfamiliar with MPI programming, a brief discussion of some of the conventions and considerations required when distributing processes with Horovod, or MPI, is worthwhile. Horovod, as with MPI, strictly follows the Single-Program Multiple-Data (SPMD) paradigm where we implement the instruction flow of multiple processes in the same file/program. Because multiple processes are executing code in parallel, we have to take care about race conditions and also the synchronisation of participating processes.Horovod assigns a unique numerical ID or rank (an MPI concept) to each process executing the program. This rank can be accessed programmatically. As you will see below, when writing Horovod code, by identifying a process's rank programmatically in the code, we can take steps such as:\n",
    "\n",
    "- Pin that process to its own exclusive GPU.\n",
    "- Utilise a single rank for broadcasting values that need to be used uniformly by all ranks.\n",
    "- Utilise a single rank for collecting and/or reducing values produced by all ranks.\n",
    "- Utilise a single rank for logging or writing to disk.\n",
    "\n",
    "\n",
    "To use Horovod with Tensorflow, we would need to make some modifications. The modifications can be listed as follows :\n",
    "\n",
    "1. Initialise Horovod  \n",
    "\n",
    "```python\n",
    "hvd.init()\n",
    "```\n",
    "\n",
    "2. Pin each GPU to a single process.\n",
    "\n",
    "```python\n",
    "gpus = tf.config.experimental.list_physical_devices('GPU')\n",
    "for gpu in gpus:\n",
    "    tf.config.experimental.set_memory_growth(gpu, True)\n",
    "if gpus:\n",
    "    tf.config.experimental.set_visible_devices(gpus[hvd.local_rank()], 'GPU')\n",
    "```\n",
    "\n",
    "3. Wrap the optimiser in Horovod Distributed optimiser. The distributed optimiser delegates gradient computation to the original optimiser, averages gradients using `all-reduce` or `all-gather`, and then applies those averaged gradients. \n",
    "\n",
    "```python \n",
    "hvd.DistributedOptimizer\n",
    "```\n",
    "\n",
    "\n",
    "4. Broadcast the initial variable states from rank 0 to all other processes.\n",
    "\n",
    "This is necessary to ensure consistent initialisation of all workers when training is started with random weights or restored from a checkpoint.\n",
    "\n",
    "This can be done by using the `hvd.broadcast_variables` method after models and optimisers have been initialised.\n",
    "\n",
    "5. Modify your code to save checkpoints only on worker 0 to prevent other workers from corrupting them.\n",
    "\n",
    "\n",
    "Let us now go over the modifications using a test code. \n",
    "\n",
    "**Note that the below code will run as a single process and will only use one GPU , this is used for explanations and a description on how to write it for multi-GPUs is given at the end**"
   ]
  },
  {
   "cell_type": "markdown",
   "metadata": {},
   "source": [
    "```python\n",
    "\n",
    "#Import Necessary libraries\n",
    "import tensorflow_datasets as tfds\n",
    "import tensorflow as tf\n",
    "from tensorflow import keras\n",
    "import time\n",
    "import os\n",
    "import sys\n",
    "# Import Horovod\n",
    "import horovod.tensorflow.keras as hvd\n",
    "# 1. Horovod: initialize Horovod.\n",
    "hvd.init()\n",
    "\n",
    "```"
   ]
  },
  {
   "cell_type": "markdown",
   "metadata": {},
   "source": [
    "With the typical setup of one GPU per process, setting this to `local_rank`. The first process on the server will be allocated the first GPU, the second process will be allocated the second GPU, and so forth."
   ]
  },
  {
   "cell_type": "markdown",
   "metadata": {},
   "source": [
    "```python\n",
    "# 2. Horovod: pin GPU to be used to process local rank (one GPU per process)\n",
    "gpus = tf.config.experimental.list_physical_devices('GPU')\n",
    "for gpu in gpus:\n",
    "    tf.config.experimental.set_memory_growth(gpu, True)\n",
    "if gpus:\n",
    "    tf.config.experimental.set_visible_devices(gpus[hvd.local_rank()], 'GPU')\n",
    "\n",
    "    \n",
    "# Load dataset and batching.\n",
    "(mnist_images, mnist_labels), _ = tf.keras.datasets.mnist.load_data(path='mnist-%d.npz' % hvd.rank())\n",
    "\n",
    "dataset = tf.data.Dataset.from_tensor_slices(\n",
    "    (tf.cast(mnist_images[..., tf.newaxis] / 255.0, tf.float32),\n",
    "             tf.cast(mnist_labels, tf.int64))\n",
    ")\n",
    "BATCH_SIZE_PER_REPLCIA = 1024\n",
    "dataset = dataset.repeat().shuffle(10000).batch(BATCH_SIZE_PER_REPLCIA)\n",
    "\n",
    "```"
   ]
  },
  {
   "cell_type": "markdown",
   "metadata": {},
   "source": [
    "Now, each process will have a copy of the model, we then wrap the Optimizer with `hvd.DistributedOptimizer`"
   ]
  },
  {
   "cell_type": "markdown",
   "metadata": {},
   "source": [
    "```python\n",
    "\n",
    "# Building the model\n",
    "mnist_model = tf.keras.Sequential([\n",
    "    tf.keras.layers.Conv2D(32, [3, 3], activation='relu'),\n",
    "    tf.keras.layers.Conv2D(64, [3, 3], activation='relu'),\n",
    "    tf.keras.layers.MaxPooling2D(pool_size=(2, 2)),\n",
    "    tf.keras.layers.Dropout(0.25),\n",
    "    tf.keras.layers.Flatten(),\n",
    "    tf.keras.layers.Dense(128, activation='relu'),\n",
    "    tf.keras.layers.Dropout(0.5),\n",
    "    tf.keras.layers.Dense(10, activation='softmax')\n",
    "])\n",
    "\n",
    "# Use Adam optimizer for training \n",
    "opt = tf.optimizers.Adam()\n",
    "\n",
    "# 3. Horovod: Wrap optimizer with DistributedOptimizer.\n",
    "opt = hvd.DistributedOptimizer(opt, backward_passes_per_step=1, average_aggregated_gradients=True)\n",
    "\n",
    "# Horovod: Specify `experimental_run_tf_function=False` to ensure TensorFlow\n",
    "# uses hvd.DistributedOptimizer() to compute gradients.\n",
    "mnist_model.compile(loss=tf.losses.SparseCategoricalCrossentropy(),\n",
    "                    optimizer=opt,\n",
    "                    metrics=['accuracy'],\n",
    "                    experimental_run_tf_function=False)\n",
    "\n",
    "```"
   ]
  },
  {
   "cell_type": "markdown",
   "metadata": {},
   "source": [
    "#### Callbacks \n",
    "\n",
    "We define some necessary callbacks, they are : \n",
    "\n",
    "1. `hvd.callbacks.BroadcastGlobalVariablesCallback(0)` :  This is necessary to ensure consistent initialization of all workers when training is started with random weights or restored from a checkpoint.\n",
    "\n",
    "2. `hvd.callbacks.MetricAverageCallback()` : Since we are not validating the full dataset on each worker anymore, each worker will have different validation results. To improve validation metric quality and reduce variance, we will average validation results among all workers.\n",
    "\n",
    "3. `Throughput()` : We define the same callback used in the Tensorflow version. This callback gives us the value of the throughput in `Images/sec` to better understand the throughput of the system.\n",
    "\n",
    "We also make sure to set the `verbose` parameter in `model.fit()` to ensure only one worker prints the results as all workers have identical results. We then fit the dataset, note that we have to define the `steps_per_epoch` parameter. "
   ]
  },
  {
   "cell_type": "markdown",
   "metadata": {},
   "source": [
    "```python\n",
    "\n",
    "class Throughput(tf.keras.callbacks.Callback):\n",
    "    def __init__(self, total_images=0):\n",
    "        self.total_images = total_images\n",
    "    def on_epoch_begin(self, epoch, logs=None):\n",
    "        self.epoch_start_time = time.time()\n",
    "    def on_epoch_end(self, epoch, logs=None):\n",
    "        if hvd.rank() == 0 :\n",
    "            epoch_time = time.time() - self.epoch_start_time\n",
    "            print('Epoch time : {}'.format(epoch_time))\n",
    "            images_per_sec = round(self.total_images / epoch_time, 2)\n",
    "            print('Images/sec: {}'.format(images_per_sec))\n",
    "\n",
    "callbacks = [\n",
    "    # Horovod: broadcast initial variable states from rank 0 to all other processes.\n",
    "    hvd.callbacks.BroadcastGlobalVariablesCallback(0),\n",
    "    # Horovod: average metrics among workers at the end of every epoch.\n",
    "    hvd.callbacks.MetricAverageCallback(),\n",
    "    # Callback to calculate Throughput\n",
    "    Throughput(total_images=len(mnist_labels))\n",
    "]\n",
    "\n",
    "\n",
    "# Horovod: write logs on worker 0.\n",
    "verbose = 1 if hvd.rank() == 0 else 0\n",
    "\n",
    "# Train the model.\n",
    "# Horovod: adjust number of steps based on number of GPUs.\n",
    "mnist_model.fit(dataset, steps_per_epoch=len(mnist_labels) // (BATCH_SIZE_PER_REPLCIA*hvd.size()), callbacks=callbacks, epochs=8, verbose=verbose)\n",
    "```"
   ]
  },
  {
   "cell_type": "markdown",
   "metadata": {},
   "source": [
    "Kindly restart the kernel or run the following cell to free up GPU memory before procedding further."
   ]
  },
  {
   "cell_type": "code",
   "execution_count": null,
   "metadata": {},
   "outputs": [],
   "source": [
    "import IPython\n",
    "app = IPython.Application.instance()\n",
    "app.kernel.do_shutdown(True) "
   ]
  },
  {
   "cell_type": "markdown",
   "metadata": {},
   "source": [
    "Like we mentioned earlier, the above cells would run as a single process and thus not utilise multiple GPUs. Now to launch multiple process, we need to use `horovodrun` command which inturn invokes the [mpirun](#https://www.open-mpi.org/doc/v4.0/man1/mpirun.1.php) command with certain optimisations.\n",
    "\n",
    "To run on a machine with 4 GPUs:\n",
    "\n",
    "```bash\n",
    "$ horovodrun -np 4 python train.py\n",
    "```\n",
    "\n",
    "To run on 4 machines with 4 GPUs each:\n",
    "\n",
    "```bash\n",
    "$ horovodrun -np 16 -H server1:4,server2:4,server3:4,server4:4 python train.py\n",
    "```\n",
    "\n",
    "Let's run it with multiple-gpus by setting the `-np` flag , the `-np` flag sets the number of copies of the program that we want to run."
   ]
  },
  {
   "cell_type": "code",
   "execution_count": 6,
   "metadata": {},
   "outputs": [
    {
     "name": "stdout",
     "output_type": "stream",
     "text": [
      "[1,0]<stdout>:Epoch 1/15\n",
      "[1,0]<stdout>:1/1 - 29s - loss: 2.3436 - accuracy: 0.0801\n",
      "[1,0]<stdout>:Epoch time : 29.148485898971558\n",
      "[1,0]<stdout>:Images/sec: 2058.43\n",
      "[1,0]<stdout>:Epoch 2/15\n",
      "[1,0]<stdout>:1/1 - 2s - loss: 2.1719 - accuracy: 0.2725\n",
      "[1,0]<stdout>:Epoch time : 2.3856217861175537\n",
      "[1,0]<stdout>:Images/sec: 25150.68\n",
      "[1,0]<stdout>:Epoch 3/15\n",
      "[1,0]<stdout>:1/1 - 1s - loss: 1.9499 - accuracy: 0.5011\n",
      "[1,0]<stdout>:Epoch time : 0.9173963069915771\n",
      "[1,0]<stdout>:Images/sec: 65402.49\n",
      "[1,0]<stdout>:Epoch 4/15\n",
      "[1,0]<stdout>:1/1 - 1s - loss: 1.7046 - accuracy: 0.5522\n",
      "[1,0]<stdout>:Epoch time : 0.8427751064300537\n",
      "[1,0]<stdout>:Images/sec: 71193.37\n",
      "[1,0]<stdout>:Epoch 5/15\n",
      "[1,0]<stdout>:1/1 - 0s - loss: 1.4648 - accuracy: 0.5952\n",
      "[1,0]<stdout>:Epoch time : 0.2723817825317383\n",
      "[1,0]<stdout>:Images/sec: 220279.05\n",
      "[1,0]<stdout>:Epoch 6/15\n",
      "[1,0]<stdout>:1/1 - 0s - loss: 1.2454 - accuracy: 0.6304\n",
      "[1,0]<stdout>:Epoch time : 0.17676448822021484\n",
      "[1,0]<stdout>:Images/sec: 339434.69\n",
      "[1,0]<stdout>:Epoch 7/15\n",
      "[1,0]<stdout>:1/1 - 0s - loss: 1.0445 - accuracy: 0.6760\n",
      "[1,0]<stdout>:Epoch time : 0.21302318572998047\n",
      "[1,0]<stdout>:Images/sec: 281659.48\n",
      "[1,0]<stdout>:Epoch 8/15\n",
      "[1,0]<stdout>:1/1 - 0s - loss: 0.9167 - accuracy: 0.7076\n",
      "[1,0]<stdout>:Epoch time : 0.21285533905029297\n",
      "[1,0]<stdout>:Images/sec: 281881.58\n",
      "[1,0]<stdout>:Epoch 9/15\n",
      "[1,0]<stdout>:1/1 - 0s - loss: 0.8514 - accuracy: 0.7190\n",
      "[1,0]<stdout>:Epoch time : 0.23517155647277832\n",
      "[1,0]<stdout>:Images/sec: 255132.89\n",
      "[1,0]<stdout>:Epoch 10/15\n",
      "[1,0]<stdout>:1/1 - 0s - loss: 0.7561 - accuracy: 0.7521\n",
      "[1,0]<stdout>:Epoch time : 0.16641712188720703\n",
      "[1,0]<stdout>:Images/sec: 360539.82\n",
      "[1,0]<stdout>:Epoch 11/15\n",
      "[1,0]<stdout>:1/1 - 0s - loss: 0.6927 - accuracy: 0.7755\n",
      "[1,0]<stdout>:Epoch time : 0.21313929557800293\n",
      "[1,0]<stdout>:Images/sec: 281506.04\n",
      "[1,0]<stdout>:Epoch 12/15\n",
      "[1,0]<stdout>:1/1 - 0s - loss: 0.6610 - accuracy: 0.7941\n",
      "[1,0]<stdout>:Epoch time : 0.24335384368896484\n",
      "[1,0]<stdout>:Images/sec: 246554.56\n",
      "[1,0]<stdout>:Epoch 13/15\n",
      "[1,0]<stdout>:1/1 - 0s - loss: 0.5913 - accuracy: 0.8108\n",
      "[1,0]<stdout>:Epoch time : 0.2265617847442627\n",
      "[1,0]<stdout>:Images/sec: 264828.42\n",
      "[1,0]<stdout>:Epoch 14/15\n",
      "[1,0]<stdout>:1/1 - 0s - loss: 0.5190 - accuracy: 0.8361\n",
      "[1,0]<stdout>:Epoch time : 0.2788574695587158\n",
      "[1,0]<stdout>:Images/sec: 215163.68\n",
      "[1,0]<stdout>:Epoch 15/15\n",
      "[1,0]<stdout>:1/1 - 0s - loss: 0.5010 - accuracy: 0.8483\n",
      "[1,0]<stdout>:Epoch time : 0.210615873336792\n",
      "[1,0]<stdout>:Images/sec: 284878.81\n",
      "[1,3]<stderr>:/usr/local/lib/python3.8/dist-packages/horovod/_keras/callbacks.py:58: UserWarning: Some callbacks may not have access to the averaged metrics, see https://github.com/horovod/horovod/issues/2440\n",
      "[1,3]<stderr>:  warnings.warn(\n",
      "[1,2]<stderr>:/usr/local/lib/python3.8/dist-packages/horovod/_keras/callbacks.py:58: UserWarning: Some callbacks may not have access to the averaged metrics, see https://github.com/horovod/horovod/issues/2440\n",
      "[1,2]<stderr>:  warnings.warn(\n",
      "[1,1]<stderr>:/usr/local/lib/python3.8/dist-packages/horovod/_keras/callbacks.py:58: UserWarning: Some callbacks may not have access to the averaged metrics, see https://github.com/horovod/horovod/issues/2440\n",
      "[1,1]<stderr>:  warnings.warn(\n",
      "[1,0]<stderr>:/usr/local/lib/python3.8/dist-packages/horovod/_keras/callbacks.py:58: UserWarning: Some callbacks may not have access to the averaged metrics, see https://github.com/horovod/horovod/issues/2440\n",
      "[1,0]<stderr>:  warnings.warn(\n"
     ]
    }
   ],
   "source": [
    "COMMAND = SINGULARITY_RUN + ' horovodrun -np 4 --mpi-args=\"--oversubscribe\" python3 ../source_code/N3/cnn_fmnist.py --batch-size=8192 2> /dev/null'\n",
    "!echo $COMMAND > command && srun --partition=gpu -n1 --gres=gpu:4 /bin/bash ./command"
   ]
  },
  {
   "cell_type": "markdown",
   "metadata": {},
   "source": [
    "### Result and scaling efficiency\n",
    "\n",
    "\n",
    "#### Scaling efficiency\n",
    "\n",
    "Let's look at the different results that obtained and calculate the scaling efficiency.\n",
    "\n",
    "<br/>\n",
    "<center> <b>A100</b> </center> \n",
    "\n",
    "|#GPUs |Samples/sec|Scaling efficiency|\n",
    "|-|-|-|\n",
    "|1| | |\n",
    "|2| | |\n",
    "|4| | |\n",
    "\n",
    "Fill in increase throughput that was achieved with a scaling efficiency. Observe the loss and accuracy that were recorded for single GPU versus multiple GPU. \n"
   ]
  },
  {
   "cell_type": "markdown",
   "metadata": {},
   "source": [
    "`The increase in convergence time is noticed when training with larger batch sizes (when we scale across GPUs, we create a large batch that has a size multiplied by the number of GPUs). We shall discuss reasons for this and some techniques that can be used for faster convergence in the next notebook.`"
   ]
  },
  {
   "cell_type": "markdown",
   "metadata": {},
   "source": [
    "***\n",
    "\n",
    "## Licensing\n",
    "\n",
    "This material is released by OpenACC-Standard.org, in collaboration with NVIDIA Corporation, under the Creative Commons Attribution 4.0 International (CC BY 4.0)."
   ]
  },
  {
   "cell_type": "markdown",
   "metadata": {},
   "source": [
    "<div>\n",
    "    <span style=\"float: left; width: 33%; text-align: left;\"><a href=\"2.1.System-Topology.ipynb\">Previous Notebook</a></span>\n",
    "    <span style=\"float: left; width: 33%; text-align: center;\">\n",
    "        <a href=\"1.Introduction-to-Distributed-Deep-Learning.ipynb\">1</a>\n",
    "        <a href=\"2.1.System-Topology.ipynb\">2</a>\n",
    "        <a >3</a>\n",
    "        <a href=\"4.Convergence.ipynb\">4</a>\n",
    "    </span>\n",
    "    <span style=\"float: left; width: 33%; text-align: right;\"><a href=\"4.Convergence.ipynb\">Next Notebook</a></span>\n",
    "</div>\n",
    "\n",
    "<p> <center> <a href=\"../Start_Here.ipynb\">Home Page</a> </center> </p>\n",
    "\n"
   ]
  }
 ],
 "metadata": {
  "kernelspec": {
   "display_name": "Python 3 (ipykernel)",
   "language": "python",
   "name": "python3"
  },
  "language_info": {
   "codemirror_mode": {
    "name": "ipython",
    "version": 3
   },
   "file_extension": ".py",
   "mimetype": "text/x-python",
   "name": "python",
   "nbconvert_exporter": "python",
   "pygments_lexer": "ipython3",
   "version": "3.8.10"
  },
  "toc-autonumbering": false,
  "toc-showcode": false,
  "toc-showmarkdowntxt": false
 },
 "nbformat": 4,
 "nbformat_minor": 4
}
